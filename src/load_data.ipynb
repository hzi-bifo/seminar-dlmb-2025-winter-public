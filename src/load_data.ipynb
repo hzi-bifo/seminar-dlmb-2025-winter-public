{
  "cells": [
    {
      "cell_type": "code",
      "execution_count": 1,
      "metadata": {
        "colab": {
          "base_uri": "https://localhost:8080/"
        },
        "id": "P8Y_rm5GqtVm",
        "outputId": "2db84de7-788e-4f78-b133-7cb1eb01c86c"
      },
      "outputs": [
        {
          "name": "stdout",
          "output_type": "stream",
          "text": [
            "Directory seminar-dlmb-2024-winter-public exists and is non-empty.\n"
          ]
        }
      ],
      "source": [
        "# Downloading our library \n",
        "import os\n",
        "directory = \"seminar-dlmb-2024-winter-public\"\n",
        "\n",
        "if os.path.exists(directory) and os.listdir(directory):\n",
        "    print(f\"Directory {directory} exists and is non-empty.\")\n",
        "else:\n",
        "    print(f\"Directory {directory} does not exist or is empty.\")\n",
        "    !!git clone https://github.com/hzi-bifo/seminar-dlmb-2024-winter-public.git\n"
      ]
    },
    {
      "cell_type": "code",
      "execution_count": 2,
      "metadata": {
        "colab": {
          "base_uri": "https://localhost:8080/"
        },
        "id": "T16KLTe-rbiN",
        "outputId": "713dc62f-59b3-4872-ab28-c578eb08c320"
      },
      "outputs": [
        {
          "name": "stdout",
          "output_type": "stream",
          "text": [
            "Requirement already satisfied: biopython in /home/hforoughmand/miniforge3/envs/dlmb2/lib/python3.12/site-packages (1.84)\n",
            "Requirement already satisfied: numpy in /home/hforoughmand/miniforge3/envs/dlmb2/lib/python3.12/site-packages (from biopython) (2.1.2)\n",
            "Note: you may need to restart the kernel to use updated packages.\n",
            "Requirement already satisfied: seaborn in /home/hforoughmand/miniforge3/envs/dlmb2/lib/python3.12/site-packages (0.13.2)\n",
            "Requirement already satisfied: numpy!=1.24.0,>=1.20 in /home/hforoughmand/miniforge3/envs/dlmb2/lib/python3.12/site-packages (from seaborn) (2.1.2)\n",
            "Requirement already satisfied: pandas>=1.2 in /home/hforoughmand/miniforge3/envs/dlmb2/lib/python3.12/site-packages (from seaborn) (2.2.3)\n",
            "Requirement already satisfied: matplotlib!=3.6.1,>=3.4 in /home/hforoughmand/miniforge3/envs/dlmb2/lib/python3.12/site-packages (from seaborn) (3.9.2)\n",
            "Requirement already satisfied: contourpy>=1.0.1 in /home/hforoughmand/miniforge3/envs/dlmb2/lib/python3.12/site-packages (from matplotlib!=3.6.1,>=3.4->seaborn) (1.3.0)\n",
            "Requirement already satisfied: cycler>=0.10 in /home/hforoughmand/miniforge3/envs/dlmb2/lib/python3.12/site-packages (from matplotlib!=3.6.1,>=3.4->seaborn) (0.12.1)\n",
            "Requirement already satisfied: fonttools>=4.22.0 in /home/hforoughmand/miniforge3/envs/dlmb2/lib/python3.12/site-packages (from matplotlib!=3.6.1,>=3.4->seaborn) (4.54.1)\n",
            "Requirement already satisfied: kiwisolver>=1.3.1 in /home/hforoughmand/miniforge3/envs/dlmb2/lib/python3.12/site-packages (from matplotlib!=3.6.1,>=3.4->seaborn) (1.4.7)\n",
            "Requirement already satisfied: packaging>=20.0 in /home/hforoughmand/miniforge3/envs/dlmb2/lib/python3.12/site-packages (from matplotlib!=3.6.1,>=3.4->seaborn) (24.1)\n",
            "Requirement already satisfied: pillow>=8 in /home/hforoughmand/miniforge3/envs/dlmb2/lib/python3.12/site-packages (from matplotlib!=3.6.1,>=3.4->seaborn) (10.4.0)\n",
            "Requirement already satisfied: pyparsing>=2.3.1 in /home/hforoughmand/miniforge3/envs/dlmb2/lib/python3.12/site-packages (from matplotlib!=3.6.1,>=3.4->seaborn) (3.1.4)\n",
            "Requirement already satisfied: python-dateutil>=2.7 in /home/hforoughmand/miniforge3/envs/dlmb2/lib/python3.12/site-packages (from matplotlib!=3.6.1,>=3.4->seaborn) (2.9.0)\n",
            "Requirement already satisfied: pytz>=2020.1 in /home/hforoughmand/miniforge3/envs/dlmb2/lib/python3.12/site-packages (from pandas>=1.2->seaborn) (2024.2)\n",
            "Requirement already satisfied: tzdata>=2022.7 in /home/hforoughmand/miniforge3/envs/dlmb2/lib/python3.12/site-packages (from pandas>=1.2->seaborn) (2024.2)\n",
            "Requirement already satisfied: six>=1.5 in /home/hforoughmand/miniforge3/envs/dlmb2/lib/python3.12/site-packages (from python-dateutil>=2.7->matplotlib!=3.6.1,>=3.4->seaborn) (1.16.0)\n",
            "Note: you may need to restart the kernel to use updated packages.\n"
          ]
        }
      ],
      "source": [
        "%pip install biopython\n",
        "%pip install seaborn"
      ]
    },
    {
      "cell_type": "code",
      "execution_count": 3,
      "metadata": {
        "id": "zLOTRXcMreim"
      },
      "outputs": [],
      "source": [
        "import sys\n",
        "sys.path.append('seminar-dlmb-2024-winter-public/src/')\n",
        "# from utility.file_utility import FileUtility\n",
        "from amr.amr_utility import load_gene_data, create_gene_datasets\n",
        "\n",
        "# Creating our dataset\n",
        "create_gene_datasets(\"seminar-dlmb-2024-winter-public/\", \"seminar-dlmb-2024-winter-public/data/ds1\")\n",
        "\n",
        "# Loading the AMR prediction data\n",
        "ds = load_gene_data(\"seminar-dlmb-2024-winter-public/data/ds1\", \"Staphylococcus_aureus_cefoxitin\", \"pbp4\")\n",
        "\n",
        "seq_train = [x[1] for x in ds[\"train\"]]\n",
        "y_train = [x[2] for x in ds[\"train\"]]\n",
        "\n",
        "seq_test = [x[1] for x in ds[\"test\"]]\n",
        "y_test = [x[2] for x in ds[\"test\"]]\n"
      ]
    },
    {
      "cell_type": "code",
      "execution_count": 4,
      "metadata": {
        "colab": {
          "base_uri": "https://localhost:8080/"
        },
        "id": "WI4sMG38rhqD",
        "outputId": "1ab47378-c90e-440f-d188-c243d4f6596c"
      },
      "outputs": [
        {
          "name": "stdout",
          "output_type": "stream",
          "text": [
            "Num of samples in train data: 135\n",
            "Num of samples in test data: 15\n"
          ]
        }
      ],
      "source": [
        "print('Num of samples in train data: {}'.format(len(seq_train)))\n",
        "print('Num of samples in test data: {}'.format(len(seq_test)))\n"
      ]
    },
    {
      "cell_type": "code",
      "execution_count": 5,
      "metadata": {
        "colab": {
          "base_uri": "https://localhost:8080/"
        },
        "id": "GITz5eTbriHR",
        "outputId": "2a3dcfc8-fcb1-4da8-aa78-80d469f77faa"
      },
      "outputs": [
        {
          "name": "stdout",
          "output_type": "stream",
          "text": [
            "Input of the first element:\n",
            "TGAAAAATTTAATATCTATTATCATCATTTTATGTTTAACATTAAGTATTATGACACCATATGCACAAGCTGCTAACAGTGACGTAACCCCTGTACAAGCAGCAAATCAATATGGTTATGCAGGTTTGTCGGCTGCATACGAACCGACGAGTGCTGTTAATGTTAGTCAAACTGGACAATTACTGTATCAATACAATATCGATACTAAGTGGAATCCAGCGTCTATGACTAAATTAATGACAATGTACTTAACATTGGAAGCTGTAAATAAGGGGCAGCTTTCACTTGACGACACTGTCACAATGACGAACAAAGAATATATTATGTCTACACTACCTGAGTTGAGTAATACGAAACTATATCCTGGACAAGTATGGACAATCTCAGACCTATTACAAATTACGGTATCTAATTCTAGTAATGCCGCGGCATTAATTTTAGCTAAGAAGGTGTCAAAAAACACCAGCGATTTCGTTGATTTAATGAATAACAAAGCTAAAGCTATCGGAATGAAAAACACACATTTCGTCAATCCAACAGGTGCTGAAAATTCAAGATTACGTACATTTGCACCAACAAAGTATAAAGACCAAGAACGTACTGTAACGACTGCTAGAGACTATGCCATTTTAGATTTACACGTGATTAAAGAAACACCTAAAATATTAGACTTTACAAAGCAGTTAGCACCAACAACGCATGCAGTTACGTATTACACATTCAACTTTTCATTGGAAGGTGCAAAAATGAGTTTGCCTGGTACAGATGGTTTAAAAACTGGATCAAGTGATACAGCAAATTACAACCATACGATTACTACTAAACGAGGTAAATTTAGAATTAATCAAGTTATCATGGGTGCGGGAGACTATAAAAAACTTGGTGGCGAGAAGCAACGTAATATGATGGGGAATGCATTAATGGAACGTTCATTTGATCAGTATAAATATGTAAAAATATTGTCTAAAGGTGAGCAAAGGATAAATGGTAAGAAATATTATGTTGAAAATGATCTTTACGATGTTTTACCAAGTGATTTTAGTGAAAAAGATTATAAACTTGTAGTCGAAGATGGTAAAGTACACGCGGACTATCCAAGAGAATTTATTAATAAAGATTATGGACCTCCAACTGTAGAAGTTCATCAGCCAATTATTCAAAAGGCAAATACTGTTGCTAAAAGTATGTGGGCAGAACATCCATTATTCACTATCATTGGTGGTGCATGCCTAGTCGCTGGATTAGCACTAATTGTTCATATGATAATCAATCGTTTATTTAGAAAAAGAAAATAAA\n",
            "First label: 0 -> resistant\n"
          ]
        }
      ],
      "source": [
        "print('Input of the first element:\\n{}'.format(seq_train[0]))\n",
        "print('First label: {} -> resistant'.format(y_train[0]))"
      ]
    },
    {
      "cell_type": "code",
      "execution_count": 6,
      "metadata": {
        "id": "6Yx-RGFKrku8"
      },
      "outputs": [],
      "source": [
        "import seaborn as sns\n",
        "import numpy as np"
      ]
    },
    {
      "cell_type": "code",
      "execution_count": 7,
      "metadata": {
        "colab": {
          "base_uri": "https://localhost:8080/",
          "height": 447
        },
        "id": "eN3uFJqlrm8w",
        "outputId": "6300bc9f-2668-449d-90fd-6196519ced5d"
      },
      "outputs": [
        {
          "name": "stdout",
          "output_type": "stream",
          "text": [
            "Median and mean sequence length: 1296.0, 1296.0\n"
          ]
        },
        {
          "data": {
            "image/png": "[encoded data removed]",
            "text/plain": [
              "<Figure size 640x480 with 1 Axes>"
            ]
          },
          "metadata": {},
          "output_type": "display_data"
        }
      ],
      "source": [
        "len_train = [len(s) for s in seq_train]\n",
        "sns.histplot(len_train)\n",
        "median = np.median(len_train)\n",
        "mean = np.mean(len_train)\n",
        "print('Median and mean sequence length: {}, {}'.format(median, mean))"
      ]
    },
    {
      "cell_type": "code",
      "execution_count": 8,
      "metadata": {
        "colab": {
          "base_uri": "https://localhost:8080/"
        },
        "id": "u6p9aOHvrpEZ",
        "outputId": "3a2c4bc1-e82f-4f31-9184-4489348dc96b"
      },
      "outputs": [
        {
          "name": "stdout",
          "output_type": "stream",
          "text": [
            "Labels in training data\n",
            "Non resistant: 37\n",
            "Resistant: 98\n"
          ]
        }
      ],
      "source": [
        "uniq_vals = set(y_train)\n",
        "y_train_int = list(map(int, y_train))\n",
        "print('Labels in training data')\n",
        "print('Non resistant: {}'.format(y_train_int.count(0)))\n",
        "print('Resistant: {}'.format(y_train_int.count(1)))"
      ]
    },
    {
      "cell_type": "code",
      "execution_count": 9,
      "metadata": {
        "colab": {
          "base_uri": "https://localhost:8080/"
        },
        "id": "Nq88QNXvrsLv",
        "outputId": "8469db5c-61be-42dc-a903-7eb2be012349"
      },
      "outputs": [
        {
          "name": "stdout",
          "output_type": "stream",
          "text": [
            "Labels in test data\n",
            "Non resistant: 3\n",
            "Resistant: 12\n"
          ]
        }
      ],
      "source": [
        "uniq_vals = set(y_test)\n",
        "y_test_int = list(map(int, y_test))\n",
        "print('Labels in test data')\n",
        "print('Non resistant: {}'.format(y_test_int.count(0)))\n",
        "print('Resistant: {}'.format(y_test_int.count(1)))"
      ]
    }
  ],
  "metadata": {
    "colab": {
      "authorship_tag": "ABX9TyO6dOwREOWKQKva2W7E2j0Z",
      "provenance": []
    },
    "kernelspec": {
      "display_name": "dlmb2",
      "language": "python",
      "name": "python3"
    },
    "language_info": {
      "codemirror_mode": {
        "name": "ipython",
        "version": 3
      },
      "file_extension": ".py",
      "mimetype": "text/x-python",
      "name": "python",
      "nbconvert_exporter": "python",
      "pygments_lexer": "ipython3",
      "version": "3.12.7"
    }
  },
  "nbformat": 4,
  "nbformat_minor": 0
}
