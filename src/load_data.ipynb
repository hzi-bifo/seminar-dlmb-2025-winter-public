{
  "cells": [
    {
      "cell_type": "code",
      "execution_count": null,
      "metadata": {
        "colab": {
          "base_uri": "https://localhost:8080/"
        },
        "id": "P8Y_rm5GqtVm",
        "outputId": "2db84de7-788e-4f78-b133-7cb1eb01c86c"
      },
      "outputs": [],
      "source": [
        "# Downloading our library \n",
        "import os\n",
        "directory = \"seminar-dlmb-2025-winter-public\"\n",
        "\n",
        "if os.path.exists(directory) and os.listdir(directory):\n",
        "    print(f\"Directory {directory} exists and is non-empty.\")\n",
        "else:\n",
        "    print(f\"Directory {directory} does not exist or is empty.\")\n",
        "    !!git clone https://github.com/hzi-bifo/seminar-dlmb-2025-winter-public.git\n"
      ]
    },
    {
      "cell_type": "code",
      "execution_count": null,
      "metadata": {
        "colab": {
          "base_uri": "https://localhost:8080/"
        },
        "id": "T16KLTe-rbiN",
        "outputId": "713dc62f-59b3-4872-ab28-c578eb08c320"
      },
      "outputs": [],
      "source": [
        "%pip install biopython\n",
        "%pip install seaborn"
      ]
    },
    {
      "cell_type": "code",
      "execution_count": null,
      "metadata": {
        "id": "zLOTRXcMreim"
      },
      "outputs": [],
      "source": [
        "import sys\n",
        "sys.path.append('seminar-dlmb-2025-winter-public/src/')\n",
        "# from utility.file_utility import FileUtility\n",
        "from amr.amr_utility import get_seq_label_fold, get_seq_label_simple, get_seq_label_hard\n",
        "\n",
        "# Loading easy dataset\n",
        "ds = get_seq_label_simple(\"Staphylococcus_aureus_cefoxitin_pbp4\")\n",
        "# a = {l : [(s[0:3]+'...', ll) for s, ll in seq_labels] for l, seq_labels in a.items()} # only prints first 3 letters of each sequence\n",
        "# print(f\"Easy dataset: { {l : len(seqs) for l, seqs in ds.items()} }\")\n",
        "\n",
        "seq_train = [x[0] for x in ds[\"train\"]]\n",
        "y_train = [x[1] for x in ds[\"train\"]]\n",
        "\n",
        "seq_test = [x[0] for x in ds[\"test\"]]\n",
        "y_test = [x[1] for x in ds[\"test\"]]\n"
      ]
    },
    {
      "cell_type": "code",
      "execution_count": null,
      "metadata": {
        "colab": {
          "base_uri": "https://localhost:8080/"
        },
        "id": "WI4sMG38rhqD",
        "outputId": "1ab47378-c90e-440f-d188-c243d4f6596c"
      },
      "outputs": [],
      "source": [
        "print('Num of samples in train data: {}'.format(len(seq_train)))\n",
        "print('Num of samples in test data: {}'.format(len(seq_test)))\n"
      ]
    },
    {
      "cell_type": "code",
      "execution_count": null,
      "metadata": {
        "colab": {
          "base_uri": "https://localhost:8080/"
        },
        "id": "GITz5eTbriHR",
        "outputId": "2a3dcfc8-fcb1-4da8-aa78-80d469f77faa"
      },
      "outputs": [],
      "source": [
        "print('Input of the first element:\\n{}'.format(seq_train[0]))\n",
        "print('First label: {} -> resistant'.format(y_train[0]))\n",
        "\n",
        "print('Input of the 26th element:\\n{}'.format(seq_train[26]))\n",
        "print('26th label: {} -> resistant'.format(y_train[26]))\n"
      ]
    },
    {
      "cell_type": "code",
      "execution_count": null,
      "metadata": {},
      "outputs": [],
      "source": [
        "print('Differences between the first and 26th sequences:')\n",
        "for i, (a, b) in enumerate(zip(seq_train[0], seq_train[26])):\n",
        "    if a != b:\n",
        "        print(f\"{i}:{a}/{b}\", end=' ')\n",
        "print()\n",
        "\n",
        "dup_count, all_count = 0, 0\n",
        "for s1 in seq_train:\n",
        "    for s2 in seq_train:\n",
        "        dup_count += s1 == s2\n",
        "        all_count += 1\n",
        "print('Number of non-duplicate pairs: {} (Number of duplicate pairs: {})'.format(all_count - dup_count, dup_count))"
      ]
    },
    {
      "cell_type": "code",
      "execution_count": null,
      "metadata": {},
      "outputs": [],
      "source": [
        "import pandas as pd\n",
        "import matplotlib.pyplot as plt\n",
        "\n",
        "# Put into DataFrame\n",
        "df = pd.DataFrame({'seq': seq_train, 'label': y_train})\n",
        "\n",
        "# count labels inside each cluster\n",
        "counts = df.groupby(['seq', 'label']).size().unstack(fill_value=0)\n",
        "counts['total'] = counts.sum(axis=1)\n",
        "\n",
        "# group by cluster size\n",
        "size_summary = counts.groupby('total').sum().sort_index()\n",
        "\n",
        "pos = size_summary.get(1, pd.Series(0, index=size_summary.index))\n",
        "neg = size_summary.get(0, pd.Series(0, index=size_summary.index))\n",
        "\n",
        "plt.figure(figsize=(8,5))\n",
        "plt.bar(size_summary.index, neg, label='Negative', color='red')\n",
        "plt.bar(size_summary.index, pos, bottom=neg, label='Positive', color='green')\n",
        "\n",
        "plt.xlabel(\"Cluster size (# of identical sequences)\")\n",
        "plt.ylabel(\"Number of clusters\")\n",
        "plt.title(\"Distribution of cluster sizes by label\")\n",
        "plt.xticks(size_summary.index, rotation=45, ha='right')\n",
        "plt.legend()\n",
        "plt.tight_layout()\n",
        "plt.subplots_adjust(bottom=0.25)  # extra margin if needed\n",
        "plt.show()"
      ]
    },
    {
      "cell_type": "code",
      "execution_count": null,
      "metadata": {
        "id": "6Yx-RGFKrku8"
      },
      "outputs": [],
      "source": [
        "import seaborn as sns\n",
        "import numpy as np"
      ]
    },
    {
      "cell_type": "code",
      "execution_count": null,
      "metadata": {
        "colab": {
          "base_uri": "https://localhost:8080/",
          "height": 447
        },
        "id": "eN3uFJqlrm8w",
        "outputId": "6300bc9f-2668-449d-90fd-6196519ced5d"
      },
      "outputs": [],
      "source": [
        "len_train = [len(s) for s in seq_train]\n",
        "sns.histplot(len_train)\n",
        "median = np.median(len_train)\n",
        "mean = np.mean(len_train)\n",
        "print('Median and mean sequence length: {}, {}'.format(median, mean))"
      ]
    },
    {
      "cell_type": "code",
      "execution_count": null,
      "metadata": {
        "colab": {
          "base_uri": "https://localhost:8080/"
        },
        "id": "u6p9aOHvrpEZ",
        "outputId": "3a2c4bc1-e82f-4f31-9184-4489348dc96b"
      },
      "outputs": [],
      "source": [
        "uniq_vals = set(y_train)\n",
        "y_train_int = list(map(int, y_train))\n",
        "print('Labels in training data')\n",
        "print('Non resistant: {}'.format(y_train_int.count(0)))\n",
        "print('Resistant: {}'.format(y_train_int.count(1)))"
      ]
    },
    {
      "cell_type": "code",
      "execution_count": null,
      "metadata": {
        "colab": {
          "base_uri": "https://localhost:8080/"
        },
        "id": "Nq88QNXvrsLv",
        "outputId": "8469db5c-61be-42dc-a903-7eb2be012349"
      },
      "outputs": [],
      "source": [
        "uniq_vals = set(y_test)\n",
        "y_test_int = list(map(int, y_test))\n",
        "print('Labels in test data')\n",
        "print('Non resistant: {}'.format(y_test_int.count(0)))\n",
        "print('Resistant: {}'.format(y_test_int.count(1)))"
      ]
    }
  ],
  "metadata": {
    "colab": {
      "authorship_tag": "ABX9TyO6dOwREOWKQKva2W7E2j0Z",
      "provenance": []
    },
    "kernelspec": {
      "display_name": "t1",
      "language": "python",
      "name": "python3"
    },
    "language_info": {
      "codemirror_mode": {
        "name": "ipython",
        "version": 3
      },
      "file_extension": ".py",
      "mimetype": "text/x-python",
      "name": "python",
      "nbconvert_exporter": "python",
      "pygments_lexer": "ipython3",
      "version": "3.12.8"
    }
  },
  "nbformat": 4,
  "nbformat_minor": 0
}
